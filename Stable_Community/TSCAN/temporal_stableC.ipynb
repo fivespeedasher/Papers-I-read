{
 "cells": [
  {
   "cell_type": "markdown",
   "metadata": {},
   "source": [
    "# TSCAN-A"
   ]
  },
  {
   "cell_type": "code",
   "execution_count": 2,
   "metadata": {},
   "outputs": [],
   "source": [
    "import networkx as nx\n",
    "import pandas as pd\n",
    "import numpy as np\n",
    "import math\n",
    "import matplotlib.pyplot as plt\n",
    "from scipy.interpolate import make_interp_spline"
   ]
  },
  {
   "cell_type": "markdown",
   "metadata": {},
   "source": [
    "### 建立时序网络"
   ]
  },
  {
   "cell_type": "markdown",
   "metadata": {},
   "source": [
    "#### 导入文件"
   ]
  },
  {
   "cell_type": "code",
   "execution_count": 3,
   "metadata": {},
   "outputs": [],
   "source": [
    "def t_graph(path):\n",
    "    \"\"\"\n",
    "    path: 数据文件路径\n",
    "    建立一个带t属性的静态图\n",
    "    返回: 图G\n",
    "    \"\"\"\n",
    "    G = nx.Graph()\n",
    "    for line in open(path):\n",
    "        if line != '/n':\n",
    "            line = line.strip('\\n').split('\\t')\n",
    "            line = [int(x) for x in line]\n",
    "            if G.has_edge(line[0], line[1]):\n",
    "                if line[2] not in G.edges[line[0], line[1]]['t']:\n",
    "                    G.edges[line[0], line[1]]['t'].append(line[2])\n",
    "            else: G.add_edge(line[0], line[1], t=[line[2]])\n",
    "    return G\n",
    "\n",
    "def snap_graph(path):\n",
    "    \"\"\"\n",
    "    path: 数据文件路径\n",
    "    返回: 字典类的多图G_d, (key='t', value=Gt)\n",
    "    \"\"\"\n",
    "    snaps = {}\n",
    "    for line in open(path):\n",
    "        if line != '/n':\n",
    "            line = line.strip('\\n').split('\\t')\n",
    "            line = [int(x) for x in line]\n",
    "            if line[2] not in snaps.keys():\n",
    "                G = nx.Graph()\n",
    "                G.add_edge(line[0], line[1])\n",
    "                snaps.update({line[2]: G})\n",
    "            else:\n",
    "                snaps[line[2]].add_edge(line[0], line[1])\n",
    "    return snaps"
   ]
  },
  {
   "cell_type": "markdown",
   "metadata": {},
   "source": [
    "#### 依照论文定制的类"
   ]
  },
  {
   "cell_type": "code",
   "execution_count": 4,
   "metadata": {},
   "outputs": [],
   "source": [
    "class tGraph(object):\n",
    "    \"\"\"\n",
    "    需要传入一个带t属性的图\n",
    "    \"\"\"\n",
    "    def __init__(self, G, eps, tau, miu):\n",
    "        self.G = G.copy()\n",
    "        self.G_c = nx.Graph()   # 存放sc可达的连边构成的图\n",
    "        self.eps = eps\n",
    "        self.tau = tau\n",
    "        self.miu = miu\n",
    "        self.wc = []    # 存放weak core\n",
    "        self.sc = []    # 存放strong core\n",
    "        self.stable_c = []  # 存放stable core\n",
    "        self.all_t = set()  # 存放所有的t\n",
    "        self.simu_s_neig = dict()   # keys:weakcore, values:满足simu_s>=tau的邻居\n",
    "        for i in G.nodes():\n",
    "            self.simu_s_neig[i] = set()\n",
    "        self.c_component = []   # 存放Gc中的连通的社团\n",
    "\n",
    "    def struc_stabi(self,u, v, t): \n",
    "        \"\"\"\n",
    "        输入: u, v, t ->int\n",
    "        返回两个节点在某时刻下的structual stability(struc_s)\n",
    "        返回: struc_s->int\n",
    "        \"\"\"\n",
    "        # 静态图的领居\n",
    "        # neig_u = G[u].keys()\n",
    "        # neig_v = G[v].values()\n",
    "        if t in self.G.edges[u, v]['t']:\n",
    "            # 筛选t切片的(邻居+自身)集合\n",
    "            neig_u_t = set([x for x in self.G[u].keys() if t in self.G.edges[u,x]['t']])\n",
    "            neig_v_t = set([x for x in self.G[v].keys() if t in self.G.edges[v,x]['t']])\n",
    "            neig_u_t.add(u)\n",
    "            neig_v_t.add(v)\n",
    "            \n",
    "            # u, v共同的邻居\n",
    "            neig_uv_t = (neig_u_t&neig_v_t)\n",
    "            temp = len(neig_u_t)*len(neig_v_t)\n",
    "            assert(temp != 0)\n",
    "            struc_s = (len(neig_uv_t))/math.sqrt(temp)\n",
    "        else: struc_s = 0\n",
    "        return struc_s\n",
    "    \n",
    "    def WeakCore(self): \n",
    "        \"\"\"\n",
    "        计算weak core,\n",
    "        更新self.wc, self.simu_s_neig\n",
    "        \"\"\"\n",
    "        maxnode = max(self.G.nodes())\n",
    "        for u in self.G.nodes():\n",
    "            for v in self.G[u].keys():\n",
    "                if (u>v) and (u != maxnode):continue\n",
    "                count = 0\n",
    "                for t in self.G.edges[u,v]['t']:\n",
    "                    if self.struc_stabi(u, v, t)>=self.eps:\n",
    "                        count += 1\n",
    "                # print('({},{}):{}'.format(u,v,count))\n",
    "                if count >= self.tau:    # u的(eps, tau)邻居出现\n",
    "                    self.simu_s_neig[u].add(v)\n",
    "                    self.simu_s_neig[v].add(u)\n",
    "            if len(self.simu_s_neig[u]) >= self.miu:\n",
    "                self.wc.append(u)\n",
    "\n",
    "    def StrongCore(self):\n",
    "        \"\"\"\n",
    "        在Weak Core中筛选Strong Core, 得到的即Stable Core\n",
    "        sc是在wc的基础上,加上:有tau张图有miu条及以上的连接.\n",
    "        更新self.sc, self.all_t\n",
    "        \"\"\"\n",
    "        del self.sc[:]\n",
    "        # 先拿到所有的t - -虽然这样子写感觉好傻\n",
    "        for u, Vs in self.simu_s_neig.items():\n",
    "            for v in Vs:\n",
    "                self.all_t = self.all_t|set(self.G.edges[u,v]['t'])\n",
    "\n",
    "        # 把u节点符合eps的连边记下，如果连边数大过miu的时间数目大过tau则u为sc\n",
    "        for u in self.wc:\n",
    "            empty = [0]*len(self.all_t)\n",
    "            temp_t = dict(zip(self.all_t, empty))   # 单个快照下满足eps的连边\n",
    "            count = 0\n",
    "            for v in self.G[u].keys():\n",
    "                for t in self.G.edges[u,v]['t']:    # TMD好多for啊，太难顶了\n",
    "                    if self.struc_stabi(u, v, t) >= self.eps:\n",
    "                        try:\n",
    "                            temp_t[t].add(v)\n",
    "                        except:\n",
    "                            temp_t[t] = {v}\n",
    "                        if len(temp_t[t]) >= self.miu:\n",
    "                            count += 1  # 有一个符合的时间切片啦\n",
    "                            # print('符合的切片：',u,v,t,temp_t[t],self.struc_stabi(u, v, t))\n",
    "                            continue\n",
    "            if count >= self.tau: self.sc.append(u)\n",
    "\n",
    "    def stable_core(self):\n",
    "        \"\"\"\n",
    "        从sc中筛选出stable_core\n",
    "        \"\"\"\n",
    "        del self.stable_c[:]\n",
    "        for u in self.sc:\n",
    "            empty = [0]*len(self.all_t)\n",
    "            temp_t = dict(zip(self.all_t,empty))\n",
    "            for v in self.simu_s_neig[u]:\n",
    "                for t in self.G.edges[u, v]['t']:\n",
    "                    if self.struc_stabi(u, v, t) >= self.eps:\n",
    "                        try:\n",
    "                            temp_t[t].add(v)\n",
    "                        except:\n",
    "                            temp_t[t] = {v}\n",
    "            # 把邻居数小于miu的时间删去\n",
    "            for k in list(temp_t.keys()):\n",
    "                if type(temp_t[k]) == type(1):\n",
    "                    del temp_t[k]\n",
    "                elif len(temp_t[k]) < self.miu:\n",
    "                    del temp_t[k]\n",
    "            if(self.is_stable_core(temp_t) == True):\n",
    "                self.stable_c.append(u)\n",
    "\n",
    "\n",
    "    # TODO 用消减prunning的方法从sc中算stable_c \n",
    "    def is_stable_core(self,temp_t):\n",
    "        \"\"\"\n",
    "        u->节点,    temp_t->某一时间切片下,u的eps-edges\n",
    "        用3滑窗扫描的方式看看u是否存在<=tau的,完全一样的星状结构\n",
    "        \"\"\"\n",
    "        for i in temp_t.keys():\n",
    "            for j in temp_t.keys():\n",
    "                for k in temp_t.keys():\n",
    "                    if i<j<k:\n",
    "                        same_node = set(temp_t[i])&set(temp_t[j])&set(temp_t[k])\n",
    "                        if len(same_node)>=3:\n",
    "                            return  True\n",
    "                        else:   return False\n",
    "\n",
    "    \n",
    "    def reachable(self,method='TSCNA-A'):\n",
    "        \"\"\"\n",
    "        把对于strong core节点来说structual reachable的连边加入到Gc中\n",
    "        method = ['TSCNA-A', 'TSCNA-S']\n",
    "        更新Gc\n",
    "        \"\"\"\n",
    "        if method == 'TSCNA-A':\n",
    "            core = self.stable_c\n",
    "        else:core = self.sc\n",
    "        for u in core:\n",
    "            edges = [(u, v) for v in self.simu_s_neig[u]]\n",
    "            self.G_c.add_edges_from(edges)\n",
    "        self.c_component = [i for i in nx.connected_components(self.G_c)]\n",
    "        "
   ]
  },
  {
   "cell_type": "markdown",
   "metadata": {},
   "source": [
    "### 出表"
   ]
  },
  {
   "cell_type": "markdown",
   "metadata": {},
   "source": [
    "1. 数据统计表：图的节点、静态图连边、时序图连边和、最大数量的时序连边的节点度、快照数"
   ]
  },
  {
   "cell_type": "code",
   "execution_count": 5,
   "metadata": {},
   "outputs": [
    {
     "name": "stdout",
     "output_type": "stream",
     "text": [
      "节点数： 7301\n",
      "静态图连边数： 55899\n",
      "时序图连边和： 62385\n",
      "快照中最大度值： 52\n",
      "快照数： 9\n"
     ]
    }
   ],
   "source": [
    "# 静态\n",
    "G_chess = t_graph('chess_year')\n",
    "print('节点数：', len(G_chess.nodes))\n",
    "print('静态图连边数：', len(G_chess.edges()))\n",
    "\n",
    "# 时序\n",
    "snaps = snap_graph('chess_year')\n",
    "t_edges = 0\n",
    "biggest_d = 0\n",
    "for k, v in snaps.items():\n",
    "    t_edges += len(v.edges())\n",
    "    for d in v.degree():\n",
    "        if d[1] > biggest_d:\n",
    "            biggest_d = d[1]\n",
    "\n",
    "print('时序图连边和：', t_edges)\n",
    "print('快照中最大度值：', biggest_d)\n",
    "print('快照数：', len(snaps.keys()))\n",
    "\n"
   ]
  },
  {
   "cell_type": "markdown",
   "metadata": {},
   "source": [
    "### 出图"
   ]
  },
  {
   "cell_type": "markdown",
   "metadata": {},
   "source": [
    "1. 快照的连边数与节点数\n",
    "2. 时序与静态图的度分布"
   ]
  },
  {
   "cell_type": "code",
   "execution_count": 6,
   "metadata": {},
   "outputs": [
    {
     "data": {
      "image/png": "[encoded data removed]",
      "text/plain": [
       "<Figure size 432x216 with 1 Axes>"
      ]
     },
     "metadata": {
      "needs_background": "light"
     },
     "output_type": "display_data"
    }
   ],
   "source": [
    "# 画快照的连边数与节点数\n",
    "x = np.array(list(snaps.keys()))\n",
    "y_1 = np.zeros((x.shape))\n",
    "y_2 = np.zeros((x.shape))\n",
    "for i in range(len(x)):\n",
    "    y_1[i] = len(snaps[x[i]].nodes)\n",
    "    y_2[i] = len(snaps[x[i]].edges())\n",
    "\n",
    "# 样条插值\n",
    "y1_mod =  make_interp_spline(x,y_1)\n",
    "y2_mod = make_interp_spline(x,y_2)\n",
    "x_s = np.linspace(min(x), max(x), (max(x)-min(x))*50)\n",
    "\n",
    "ys_1 = y1_mod(x_s)\n",
    "ys_2 = y2_mod(x_s)\n",
    "\n",
    "plt.figure(figsize=(6,3))\n",
    "plt.subplot(1,2,1)\n",
    "plt.plot(x_s, ys_1, color = 'orange', label = '#Nodes') # TODO 转换成指数纵轴\n",
    "plt.plot(x_s, ys_2, color = 'b', label = '#Edges')\n",
    "plt.yscale('log')\n",
    "plt.yticks([1000, 10000],[r'$10^3$', r'$10^4$',])\n",
    "plt.legend()\n",
    "\n",
    "# 画静态图的度分布\n",
    "y_det = [i/sum(nx.degree_histogram(G_chess)) for i in nx.degree_histogram(G_chess)] # degree temporary度分布\n",
    "x_degree = list(range(max(dict(G_chess.degree()).values())+1))\n",
    "y_t = np.array([], dtype=int)"
   ]
  },
  {
   "cell_type": "markdown",
   "metadata": {},
   "source": [
    "3. 对单个网络每个快照的社团划分求separability, density, cohesiveness and clustering coefficient, 对比不同的手段（TSCAN-S、PSCAN-W）\n",
    "4. 对多个网络计算以上方法得到的参数的平均的数值"
   ]
  },
  {
   "cell_type": "code",
   "execution_count": 7,
   "metadata": {},
   "outputs": [],
   "source": [
    "class clust_evaluation(object):\n",
    "    def __init__(self, G, Gc, c_component):\n",
    "        \"\"\"\n",
    "        Input: G是静态图, Gc是衰减社团间连边后的图\n",
    "        旨在计算社团划分平均评估指标:separability, density, cohesiveness and clustering coefficient\n",
    "        \"\"\"\n",
    "        self.G = G\n",
    "        self.Gc = Gc\n",
    "        self.communities = c_component\n",
    "    \n",
    "    def AS(self):\n",
    "        \"\"\"\n",
    "        计算平均分离度: 社团内部连边数量/(社团内节点所有连边数量)\n",
    "        Return: AS\n",
    "        \"\"\"\n",
    "        comm_num = len(self.communities)\n",
    "        insideC_e = np.zeros(comm_num) #   inside community edges\n",
    "        allC_e = np.zeros(comm_num)\n",
    "        for i in range(comm_num):\n",
    "            insideC_e[i] = len(self.Gc.edges(self.communities[i]))\n",
    "            allC_e[i] = len(self.G.edges(self.communities[i]))\n",
    "        sep = insideC_e/allC_e\n",
    "        ave_sep = np.mean(sep)\n",
    "        return ave_sep"
   ]
  },
  {
   "cell_type": "code",
   "execution_count": 8,
   "metadata": {},
   "outputs": [
    {
     "name": "stdout",
     "output_type": "stream",
     "text": [
      "Strong Core: [172, 269, 280, 674]\n",
      "Stable Core []\n",
      "社团的连边： [(172, 352), (172, 322), (172, 2028), (172, 952), (172, 90), (269, 2209), (269, 130), (269, 712), (269, 41), (269, 152), (280, 801), (280, 13), (280, 2574), (280, 1108), (280, 439), (674, 663), (674, 2090), (674, 652), (674, 722), (674, 759)]\n",
      "连通片 [{352, 322, 172, 2028, 952, 90}, {2209, 130, 712, 41, 269, 152}, {801, 13, 2574, 1108, 439, 280}, {674, 2090, 759, 652, 722, 663}]\n",
      "AS: 0.014731655249805159\n"
     ]
    }
   ],
   "source": [
    "def main(path, eps, tau, miu):\n",
    "    G_test = t_graph(path)\n",
    "    G_A = tGraph(G_test, eps, tau, miu)\n",
    "\n",
    "    # 返回weakcore \n",
    "    G_A.WeakCore()\n",
    "    G_A.StrongCore()\n",
    "    G_A.stable_core()\n",
    "\n",
    "    print('Strong Core:',G_A.sc)\n",
    "    print('Stable Core', G_A.stable_c)\n",
    "    G_A.reachable('TSCNA-S')\n",
    "    print('社团的连边：', G_A.G_c.edges())\n",
    "    print('连通片', G_A.c_component)\n",
    "\n",
    "    eva = clust_evaluation(G_test, G_A.G_c, G_A.c_component)\n",
    "    ave_sep = eva.AS()\n",
    "    print(\"AS:\", ave_sep)\n",
    "\n",
    "main('chess_year', 0.5, 3, 5)     #    也可以用test_sample测试\n",
    "# main('test_sample', 0.7, 3, 3)"
   ]
  }
 ],
 "metadata": {
  "interpreter": {
   "hash": "47325e58be4a2059d68335379060bff4e17578076ef74ae66df13786a84c1838"
  },
  "kernelspec": {
   "display_name": "Python 3.9.5 ('research')",
   "language": "python",
   "name": "python3"
  },
  "language_info": {
   "codemirror_mode": {
    "name": "ipython",
    "version": 3
   },
   "file_extension": ".py",
   "mimetype": "text/x-python",
   "name": "python",
   "nbconvert_exporter": "python",
   "pygments_lexer": "ipython3",
   "version": "3.9.5"
  },
  "orig_nbformat": 4
 },
 "nbformat": 4,
 "nbformat_minor": 2
}
